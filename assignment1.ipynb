{
  "nbformat": 4,
  "nbformat_minor": 0,
  "metadata": {
    "colab": {
      "provenance": []
    },
    "kernelspec": {
      "name": "python3",
      "display_name": "Python 3"
    },
    "language_info": {
      "name": "python"
    }
  },
  "cells": [
    {
      "cell_type": "markdown",
      "source": [
        "#Python Basics\n",
        "\n",
        "\n",
        "    "
      ],
      "metadata": {
        "id": "JNbq9s7GDXTC"
      }
    },
    {
      "cell_type": "markdown",
      "source": [
        "1.  What is Python, and why is it popular?\n",
        "    -  Python is a popular programming language  that is easy to understand  \n",
        "       and write, making it a popular choice among developers and programmers. It is compatible with various patterns.\n",
        "       It has many libraries.such as procedural, object-oriented, and functional programming.\n",
        "    - Python has a large and active community of developers, an extensive\n",
        "      standard library, and third-party packages for various domains.\n",
        "    -It is easy to understand and have many libraries\n",
        "2.What is an interpreter in Python?\n",
        "\n",
        "  - A Python interpreter is a program that reads and executes Python code, line\n",
        "   by line.\n",
        "\n",
        "3. What are pre-defined keywords in Python?\n",
        "  -  Keywords are reserved words in Python that have special meanings and cannot be used as identifiers (variable names, function names, etc.).\n",
        "  - Examples of keywords include if, else, while, for, def, class, import, try, except, return, True, False, None, etc.\n",
        "   -  Keywords are case-sensitive and cannot be redefined or overridden within a Python program.\n",
        "\n",
        "4. Can keywords be used as variable names?\n",
        "  - No,Python keywords cannot be used as variable names.\n",
        "5.What is mutability in Python?\n",
        " - Mutable objects, such as lists and dictionaries, can be modified after\n",
        "   creation,Mutability affects how objects are stored and manipulated in memory, impacting performance, memory usage, and concurrency in Python programs.\n",
        "\n",
        "\n",
        " 6.Why are lists mutable, but tuples are immutable?\n",
        " - Lists are mutable because we can change the order of items in a list or\n",
        "   reassign an item in a list.  lists are mutable and can be modified.\n",
        " - Tuples are immutable because tuples are not modifiable in nature.meaning their contents cannot be changed after creation, while lists are mutable and can be modified.\n",
        "\n",
        "7. What is the difference between “==” and “is” operators in Python?\n",
        " - Difference between == and is operators in Python :\n",
        "  - The \"==\" operator helps us compare the equality of objects.\n",
        "  - The \"is\" operator helps us check whether different variables point towards a similar object in the memory.\n",
        "  \n",
        "  8.What are logical operators in Python?\n",
        "  - Logical operators in Python are used to evaluate multiple conditions and determine the truth value of an expression:\n",
        "  - and: Returns True if both conditions are true, otherwise returns False\n",
        " - or: Returns True if at least one condition is true\n",
        " - not: A logical operator.\n",
        "\n",
        "9.What is type casting in Python?\n",
        " - Type Casting  is the process of changing a variable's data type from one type to another. It's also known as type conversion.\n",
        "  - The process of changing the data type of value or structure\n",
        "\n",
        " 10.What is the difference between implicit and explicit type casting?\n",
        "  - Implicit type casting is automatic .Python understands the data type.\n",
        "  - Explicit type casting  requires the programmer to specify the desired\n",
        "   type,it converts data type using inbuilt functions such as strings,int,float....\n",
        "\n",
        "  11.What is the purpose of conditional statements in Python?\n",
        "   - Conditional statements allow you to make decisions in your code, which can make your code more efficient and easier to read.\n",
        "\n",
        "12.How does the elif statement work?\n",
        "   - if statements pair up with elif and else statements to perform a series of checks.\n",
        "   - elif is short for \"else if\" and is used when the first if statement isn't true, but you want to check for another condition.\n",
        "\n",
        "\n",
        "13. What is the difference between for and while loops?\n",
        "  - Both for loop and while loop is used to execute the statements repeatedly while the program runs. The major difference between for loop and while loop is that for loop is used when the number of iterations is known, whereas execution is done in a while loop until the statement in the program is proved wrong.\n",
        "\n",
        "14. Describe a scenario where a while loop is more suitable than a for loop?\n",
        " - If you want the loop to break based on a condition other than the number of times it runs, you should use a while loop.\n",
        " -  When you need to continue looping until a specific condition is met, rather than a set number of times\n",
        "   \n",
        "\n",
        "\n",
        "\n",
        "\n",
        "\n",
        "\n",
        "\n"
      ],
      "metadata": {
        "id": "NEmjfeXKEQJk"
      }
    },
    {
      "cell_type": "markdown",
      "source": [
        "#Practical Questions\n"
      ],
      "metadata": {
        "id": "hpr4xXSqY_go"
      }
    },
    {
      "cell_type": "code",
      "source": [
        "# 1. Write a Python program to print \"Hello, World!_\n",
        "print(\"Hello, World!\")"
      ],
      "metadata": {
        "colab": {
          "base_uri": "https://localhost:8080/"
        },
        "id": "XhtfC9UFZFul",
        "outputId": "13f0d530-1ce8-43cf-ec4a-96f27aead218"
      },
      "execution_count": null,
      "outputs": [
        {
          "output_type": "stream",
          "name": "stdout",
          "text": [
            "Hello, World!\n"
          ]
        }
      ]
    },
    {
      "cell_type": "code",
      "source": [
        "# 2.Write a Python program that displays your name and age?\n",
        "age = input(\"Enter age: \")\n",
        "name = input(\"Enter name: \")\n",
        "print(\"Hi, my name is \" + name + \", and I am \" + age + \" years old.\")"
      ],
      "metadata": {
        "colab": {
          "base_uri": "https://localhost:8080/"
        },
        "id": "sTChoZSBbfO-",
        "outputId": "6b2a642b-4a51-421e-e9c2-0eeee390ba2e"
      },
      "execution_count": null,
      "outputs": [
        {
          "output_type": "stream",
          "name": "stdout",
          "text": [
            "Enter age: 25\n",
            "Enter name: Akshatha\n",
            "Hi, my name is Akshatha, and I am 25 years old.\n"
          ]
        }
      ]
    },
    {
      "cell_type": "code",
      "source": [
        "# 3. Write code to print all the pre-defined keywords in Python using the keyword library?\n",
        "import keyword\n",
        "print(keyword.kwlist)"
      ],
      "metadata": {
        "colab": {
          "base_uri": "https://localhost:8080/"
        },
        "id": "nsBJ2u8kcG92",
        "outputId": "315fb3c3-38a2-41fb-dfd1-d61ead8bf234"
      },
      "execution_count": null,
      "outputs": [
        {
          "output_type": "stream",
          "name": "stdout",
          "text": [
            "['False', 'None', 'True', 'and', 'as', 'assert', 'async', 'await', 'break', 'class', 'continue', 'def', 'del', 'elif', 'else', 'except', 'finally', 'for', 'from', 'global', 'if', 'import', 'in', 'is', 'lambda', 'nonlocal', 'not', 'or', 'pass', 'raise', 'return', 'try', 'while', 'with', 'yield']\n"
          ]
        }
      ]
    },
    {
      "cell_type": "code",
      "source": [
        "# 4.Write a program that checks if a given word is a Python keyword?\n",
        "import keyword\n",
        "word = input(\"Enter a word: \")\n",
        "if keyword.iskeyword(word):\n",
        "    print(word + \" is a Python keyword.\")\n",
        "else:\n",
        "    print(word + \" is not a Python keyword.\")"
      ],
      "metadata": {
        "colab": {
          "base_uri": "https://localhost:8080/"
        },
        "id": "CSP6cRxRdDus",
        "outputId": "1fb397c4-e20a-4bc3-e4a3-90bae8ff8562"
      },
      "execution_count": null,
      "outputs": [
        {
          "output_type": "stream",
          "name": "stdout",
          "text": [
            "Enter a word: if\n",
            "if is a Python keyword.\n"
          ]
        }
      ]
    },
    {
      "cell_type": "code",
      "source": [
        "# 5.Create a list and tuple in Python, and demonstrate how attempting to change\n",
        "# an element works differently for each?\n",
        "lis= [\"Banana\",\"Apple\",\"Orange\",\"Papaya\"]\n",
        "lis[0] = \"Mango\"\n",
        "print(lis)\n",
        "tup = (\"Banana\",\"Apple\",\"Orange\",\"Papaya\")\n",
        "tup[0] = \"Mango\"\n",
        "print(tup)"
      ],
      "metadata": {
        "id": "KrXSO4TedR6h",
        "colab": {
          "base_uri": "https://localhost:8080/",
          "height": 211
        },
        "outputId": "2f06c9c0-60d2-434c-df47-fac578b2da20"
      },
      "execution_count": null,
      "outputs": [
        {
          "output_type": "stream",
          "name": "stdout",
          "text": [
            "['Mango', 'Apple', 'Orange', 'Papaya']\n"
          ]
        },
        {
          "output_type": "error",
          "ename": "TypeError",
          "evalue": "'tuple' object does not support item assignment",
          "traceback": [
            "\u001b[0;31m---------------------------------------------------------------------------\u001b[0m",
            "\u001b[0;31mTypeError\u001b[0m                                 Traceback (most recent call last)",
            "\u001b[0;32m<ipython-input-1-d327f9948e52>\u001b[0m in \u001b[0;36m<cell line: 7>\u001b[0;34m()\u001b[0m\n\u001b[1;32m      5\u001b[0m \u001b[0mprint\u001b[0m\u001b[0;34m(\u001b[0m\u001b[0mlis\u001b[0m\u001b[0;34m)\u001b[0m\u001b[0;34m\u001b[0m\u001b[0;34m\u001b[0m\u001b[0m\n\u001b[1;32m      6\u001b[0m \u001b[0mtup\u001b[0m \u001b[0;34m=\u001b[0m \u001b[0;34m(\u001b[0m\u001b[0;34m\"Banana\"\u001b[0m\u001b[0;34m,\u001b[0m\u001b[0;34m\"Apple\"\u001b[0m\u001b[0;34m,\u001b[0m\u001b[0;34m\"Orange\"\u001b[0m\u001b[0;34m,\u001b[0m\u001b[0;34m\"Papaya\"\u001b[0m\u001b[0;34m)\u001b[0m\u001b[0;34m\u001b[0m\u001b[0;34m\u001b[0m\u001b[0m\n\u001b[0;32m----> 7\u001b[0;31m \u001b[0mtup\u001b[0m\u001b[0;34m[\u001b[0m\u001b[0;36m0\u001b[0m\u001b[0;34m]\u001b[0m \u001b[0;34m=\u001b[0m \u001b[0;34m\"Mango\"\u001b[0m\u001b[0;34m\u001b[0m\u001b[0;34m\u001b[0m\u001b[0m\n\u001b[0m\u001b[1;32m      8\u001b[0m \u001b[0mprint\u001b[0m\u001b[0;34m(\u001b[0m\u001b[0mtup\u001b[0m\u001b[0;34m)\u001b[0m\u001b[0;34m\u001b[0m\u001b[0;34m\u001b[0m\u001b[0m\n",
            "\u001b[0;31mTypeError\u001b[0m: 'tuple' object does not support item assignment"
          ]
        }
      ]
    },
    {
      "cell_type": "markdown",
      "source": [
        "list is aMutable and tuples are immutable"
      ],
      "metadata": {
        "id": "hIjqRCwhaR43"
      }
    },
    {
      "cell_type": "code",
      "source": [
        "# 6. Write a function to demonstrate the behavior of mutable and immutable arguments?\n",
        "# Mutable object example\n",
        "my_list = [1, 2, 3]\n",
        "another_list = my_list  # another_list references the same list\n",
        "\n",
        "print(\"Original my_list:\", my_list)\n",
        "print(\"Original another_list:\", another_list)\n",
        "\n",
        "# Modifying my_list\n",
        "my_list.append(4)\n",
        "\n",
        "print(\"\\nModified my_list:\", my_list)\n",
        "print(\"another_list reflects change:\", another_list)  # Both show the change\n",
        "\n"
      ],
      "metadata": {
        "colab": {
          "base_uri": "https://localhost:8080/"
        },
        "id": "tbrrx75Iacab",
        "outputId": "a4833fd1-b1b8-4834-8fc4-56f52439762a"
      },
      "execution_count": null,
      "outputs": [
        {
          "output_type": "stream",
          "name": "stdout",
          "text": [
            "Original my_list: [1, 2, 3]\n",
            "Original another_list: [1, 2, 3]\n",
            "\n",
            "Modified my_list: [1, 2, 3, 4]\n",
            "another_list reflects change: [1, 2, 3, 4]\n"
          ]
        }
      ]
    },
    {
      "cell_type": "code",
      "source": [
        "# Immutable object example\n",
        "# Immutable object example with a string\n",
        "text = \"hello\"\n",
        "print(\"\\nOriginal text:\", text)\n",
        "print(\"ID of text:\", id(text))\n",
        "\n",
        "# Modifying text creates a new object\n",
        "text += \" world\"\n",
        "print(\"\\nModified text:\", text)\n",
        "print(\"New ID of text (different from original):\", id(text))"
      ],
      "metadata": {
        "colab": {
          "base_uri": "https://localhost:8080/"
        },
        "id": "jLdpXe_FbZ0M",
        "outputId": "bde20b55-3f68-4fe4-81dd-49f6e9451e65"
      },
      "execution_count": null,
      "outputs": [
        {
          "output_type": "stream",
          "name": "stdout",
          "text": [
            "\n",
            "Original text: hello\n",
            "ID of text: 135166553539056\n",
            "\n",
            "Modified text: hello world\n",
            "New ID of text (different from original): 135166563804016\n"
          ]
        }
      ]
    },
    {
      "cell_type": "code",
      "source": [
        "# 7. Write a function to demonstrate the behavior of mutable and immutable arguments?\n",
        "# Mutable object example\n",
        "my_list = [1, 2, 3]\n",
        "another_list = my_list  # another_list references the same list\n",
        "\n",
        "print(\"Original my_list:\", my_list)\n",
        "print(\"Original another_list:\", another_list)\n",
        "\n",
        "# Modifying my_list\n",
        "my_list.append(4)\n",
        "\n",
        "print(\"\\nModified my_list:\", my_list)\n",
        "print(\"another_list reflects change:\", another_list)  # Both show the change"
      ],
      "metadata": {
        "colab": {
          "base_uri": "https://localhost:8080/"
        },
        "id": "T5lYTaS_YgB5",
        "outputId": "1644153e-bf1b-4b75-b4dd-58b02ec57870"
      },
      "execution_count": null,
      "outputs": [
        {
          "output_type": "stream",
          "name": "stdout",
          "text": [
            "Original my_list: [1, 2, 3]\n",
            "Original another_list: [1, 2, 3]\n",
            "\n",
            "Modified my_list: [1, 2, 3, 4]\n",
            "another_list reflects change: [1, 2, 3, 4]\n"
          ]
        }
      ]
    },
    {
      "cell_type": "code",
      "source": [
        "# Immutable object example\n",
        "# Immutable object example with a string\n",
        "text = \"hello\"\n",
        "print(\"\\nOriginal text:\", text)\n",
        "print(\"ID of text:\", id(text))\n",
        "\n",
        "# Modifying text creates a new object\n",
        "text += \" world\"\n",
        "print(\"\\nModified text:\", text)\n",
        "print(\"New ID of text (different from original):\", id(text))"
      ],
      "metadata": {
        "colab": {
          "base_uri": "https://localhost:8080/"
        },
        "id": "9I1AfLvscRNv",
        "outputId": "3ffd228a-abdc-4125-9992-f8b7819dac6f"
      },
      "execution_count": null,
      "outputs": [
        {
          "output_type": "stream",
          "name": "stdout",
          "text": [
            "\n",
            "Original text: hello\n",
            "ID of text: 135166553539056\n",
            "\n",
            "Modified text: hello world\n",
            "New ID of text (different from original): 135166544398384\n"
          ]
        }
      ]
    },
    {
      "cell_type": "code",
      "source": [
        "# 8.Write a program to demonstrate the use of logical operators?\n",
        "# Example: Logical Operators (AND, OR, NOT) with generic variables\n",
        "a, b, c = True, False, True\n",
        "\n",
        "# AND: Both conditions must be True\n",
        "if a and c:\n",
        "    print(\"Both a and c are True (AND condition).\")\n",
        "\n",
        "# OR: At least one condition must be True\n",
        "if b or c:\n",
        "    print(\"Either b or c is True (OR condition).\")\n",
        "\n",
        "# NOT: Reverses the condition\n",
        "if not b:\n",
        "    print(\"b is False (NOT condition).\")"
      ],
      "metadata": {
        "colab": {
          "base_uri": "https://localhost:8080/"
        },
        "id": "GqVxvxb1cTiz",
        "outputId": "7d8df0aa-7f51-4402-bc95-deb2ab73982f"
      },
      "execution_count": null,
      "outputs": [
        {
          "output_type": "stream",
          "name": "stdout",
          "text": [
            "Both a and c are True (AND condition).\n",
            "Either b or c is True (OR condition).\n",
            "b is False (NOT condition).\n"
          ]
        }
      ]
    },
    {
      "cell_type": "code",
      "source": [
        "# 9.Write a Python program to convert user input from string to integer, float, and boolean types?\n",
        "# converting string into integer\n",
        "s = \"42\"\n",
        "num = int(s)\n",
        "print(num)\n"
      ],
      "metadata": {
        "colab": {
          "base_uri": "https://localhost:8080/"
        },
        "id": "Qy9FpaAZdcH6",
        "outputId": "3cf64071-daa9-4b1b-a4e9-765e4d9c33ee"
      },
      "execution_count": null,
      "outputs": [
        {
          "output_type": "stream",
          "name": "stdout",
          "text": [
            "42\n"
          ]
        }
      ]
    },
    {
      "cell_type": "code",
      "source": [
        "type(num)"
      ],
      "metadata": {
        "colab": {
          "base_uri": "https://localhost:8080/"
        },
        "id": "EXknVDQTez64",
        "outputId": "8e485ee5-ee06-4046-e623-2a51e75b9633"
      },
      "execution_count": null,
      "outputs": [
        {
          "output_type": "execute_result",
          "data": {
            "text/plain": [
              "int"
            ]
          },
          "metadata": {},
          "execution_count": 11
        }
      ]
    },
    {
      "cell_type": "code",
      "source": [
        "# converting string into float\n",
        "s = \"3.14\"\n",
        "num = float(s)\n",
        "print(num)"
      ],
      "metadata": {
        "colab": {
          "base_uri": "https://localhost:8080/"
        },
        "id": "O0WK7cxye_9x",
        "outputId": "b6ee37f1-06b2-477a-8008-2d308b9d3be7"
      },
      "execution_count": null,
      "outputs": [
        {
          "output_type": "stream",
          "name": "stdout",
          "text": [
            "3.14\n"
          ]
        }
      ]
    },
    {
      "cell_type": "code",
      "source": [
        "type(num)"
      ],
      "metadata": {
        "colab": {
          "base_uri": "https://localhost:8080/"
        },
        "id": "asrlTU6nfI-_",
        "outputId": "de4b9d52-ea17-40a6-c95e-959b57cd210d"
      },
      "execution_count": null,
      "outputs": [
        {
          "output_type": "execute_result",
          "data": {
            "text/plain": [
              "float"
            ]
          },
          "metadata": {},
          "execution_count": 13
        }
      ]
    },
    {
      "cell_type": "code",
      "source": [
        "# converting string into boolean types\n",
        "s = \"True\"\n",
        "bool_value = bool(s)\n",
        "print(bool_value)"
      ],
      "metadata": {
        "colab": {
          "base_uri": "https://localhost:8080/"
        },
        "id": "BZTDPqrvfOS1",
        "outputId": "169b047a-a924-41fe-d1a5-12d8db90a781"
      },
      "execution_count": null,
      "outputs": [
        {
          "output_type": "stream",
          "name": "stdout",
          "text": [
            "True\n"
          ]
        }
      ]
    },
    {
      "cell_type": "code",
      "source": [
        "# 10.Write code to demonstrate type casting with list elements\n",
        "grocery_list = [\"Milk\", \"Orange\", 1, 2.2, True, 3+5j]\n",
        "type(grocery_list)\n"
      ],
      "metadata": {
        "colab": {
          "base_uri": "https://localhost:8080/"
        },
        "id": "W6QZAHCDfb_u",
        "outputId": "7f71955d-f985-4756-de6c-cbee24c4cd44"
      },
      "execution_count": null,
      "outputs": [
        {
          "output_type": "execute_result",
          "data": {
            "text/plain": [
              "list"
            ]
          },
          "metadata": {},
          "execution_count": 17
        }
      ]
    },
    {
      "cell_type": "code",
      "source": [
        "grocery_list[0]"
      ],
      "metadata": {
        "colab": {
          "base_uri": "https://localhost:8080/",
          "height": 36
        },
        "id": "J0z1eu26cFSH",
        "outputId": "6a9fbab3-c72c-48bc-cbaa-170d8af218cc"
      },
      "execution_count": null,
      "outputs": [
        {
          "output_type": "execute_result",
          "data": {
            "text/plain": [
              "'Milk'"
            ],
            "application/vnd.google.colaboratory.intrinsic+json": {
              "type": "string"
            }
          },
          "metadata": {},
          "execution_count": 18
        }
      ]
    },
    {
      "cell_type": "code",
      "source": [
        "grocery_list[-1]"
      ],
      "metadata": {
        "colab": {
          "base_uri": "https://localhost:8080/"
        },
        "id": "tC-ESFYxj7Nl",
        "outputId": "88b982c7-7ee7-427d-a69d-efb3253e9771"
      },
      "execution_count": null,
      "outputs": [
        {
          "output_type": "execute_result",
          "data": {
            "text/plain": [
              "(3+5j)"
            ]
          },
          "metadata": {},
          "execution_count": 19
        }
      ]
    },
    {
      "cell_type": "code",
      "source": [
        "grocery_list[1:]"
      ],
      "metadata": {
        "colab": {
          "base_uri": "https://localhost:8080/"
        },
        "id": "m-d7h-i7j_6z",
        "outputId": "4ad6991c-bc89-46b8-9614-200e736244d8"
      },
      "execution_count": null,
      "outputs": [
        {
          "output_type": "execute_result",
          "data": {
            "text/plain": [
              "['Orange', 1, 2.2, True, (3+5j)]"
            ]
          },
          "metadata": {},
          "execution_count": 20
        }
      ]
    },
    {
      "cell_type": "code",
      "source": [
        "grocery_list[0]= \"eggs\"\n",
        "grocery_list\n"
      ],
      "metadata": {
        "colab": {
          "base_uri": "https://localhost:8080/"
        },
        "id": "b94yUZfIkMdq",
        "outputId": "e480bb28-cf9e-4ed9-ba4a-128296fc7cf4"
      },
      "execution_count": null,
      "outputs": [
        {
          "output_type": "execute_result",
          "data": {
            "text/plain": [
              "['eggs', 'Orange', 1, 2.2, True, (3+5j)]"
            ]
          },
          "metadata": {},
          "execution_count": 22
        }
      ]
    },
    {
      "cell_type": "code",
      "source": [
        "grocery_list[-1]= \"GRAPES\"\n",
        "grocery_list"
      ],
      "metadata": {
        "colab": {
          "base_uri": "https://localhost:8080/"
        },
        "id": "0r7esoy2keb7",
        "outputId": "e32aeb16-7f80-41f8-f703-555254e6ef2a"
      },
      "execution_count": null,
      "outputs": [
        {
          "output_type": "execute_result",
          "data": {
            "text/plain": [
              "['eggs', 'Orange', 1, 2.2, True, 'GRAPES']"
            ]
          },
          "metadata": {},
          "execution_count": 23
        }
      ]
    },
    {
      "cell_type": "code",
      "source": [
        "#11.0 Write a program that checks if a number is positive, negative, or zero?\n",
        "num = float(input(\"Enter a number: \"))\n",
        "if num > 0:\n",
        "    print(\"The number is positive.\")\n",
        "elif num < 0:\n",
        "    print(\"The number is negative.\")\n",
        "else:\n",
        "    print(\"The number is zero.\")"
      ],
      "metadata": {
        "colab": {
          "base_uri": "https://localhost:8080/"
        },
        "id": "lni9wh8nk70n",
        "outputId": "dfbdba0a-9b82-4670-eb61-d33e117086d2"
      },
      "execution_count": null,
      "outputs": [
        {
          "output_type": "stream",
          "name": "stdout",
          "text": [
            "Enter a number: 2\n",
            "The number is positive.\n"
          ]
        }
      ]
    },
    {
      "cell_type": "code",
      "source": [
        "#12. Write a for loop to print numbers from 1 to 100?\n",
        "for i in range(0, 101):\n",
        "    print(i)"
      ],
      "metadata": {
        "colab": {
          "base_uri": "https://localhost:8080/"
        },
        "id": "Bj0iEVcwlMZI",
        "outputId": "5d19683a-97ac-4d04-fb26-5a5648543d75"
      },
      "execution_count": null,
      "outputs": [
        {
          "output_type": "stream",
          "name": "stdout",
          "text": [
            "0\n",
            "1\n",
            "2\n",
            "3\n",
            "4\n",
            "5\n",
            "6\n",
            "7\n",
            "8\n",
            "9\n",
            "10\n",
            "11\n",
            "12\n",
            "13\n",
            "14\n",
            "15\n",
            "16\n",
            "17\n",
            "18\n",
            "19\n",
            "20\n",
            "21\n",
            "22\n",
            "23\n",
            "24\n",
            "25\n",
            "26\n",
            "27\n",
            "28\n",
            "29\n",
            "30\n",
            "31\n",
            "32\n",
            "33\n",
            "34\n",
            "35\n",
            "36\n",
            "37\n",
            "38\n",
            "39\n",
            "40\n",
            "41\n",
            "42\n",
            "43\n",
            "44\n",
            "45\n",
            "46\n",
            "47\n",
            "48\n",
            "49\n",
            "50\n",
            "51\n",
            "52\n",
            "53\n",
            "54\n",
            "55\n",
            "56\n",
            "57\n",
            "58\n",
            "59\n",
            "60\n",
            "61\n",
            "62\n",
            "63\n",
            "64\n",
            "65\n",
            "66\n",
            "67\n",
            "68\n",
            "69\n",
            "70\n",
            "71\n",
            "72\n",
            "73\n",
            "74\n",
            "75\n",
            "76\n",
            "77\n",
            "78\n",
            "79\n",
            "80\n",
            "81\n",
            "82\n",
            "83\n",
            "84\n",
            "85\n",
            "86\n",
            "87\n",
            "88\n",
            "89\n",
            "90\n",
            "91\n",
            "92\n",
            "93\n",
            "94\n",
            "95\n",
            "96\n",
            "97\n",
            "98\n",
            "99\n",
            "100\n"
          ]
        }
      ]
    },
    {
      "cell_type": "code",
      "source": [
        "#13.Write a Python program to find the sum of all even numbers between 1 and 500?\n",
        "sum_even = 0\n",
        "for num in range(1, 501):\n",
        "    if num % 2 == 0:\n",
        "        sum_even += num\n",
        "print(\"The sum of even numbers between 1 and 500 is:\", sum_even)"
      ],
      "metadata": {
        "colab": {
          "base_uri": "https://localhost:8080/"
        },
        "id": "V-hrjE3Bl4DZ",
        "outputId": "cc3b01b6-0dce-4a2f-eb60-b2cb3532785b"
      },
      "execution_count": null,
      "outputs": [
        {
          "output_type": "stream",
          "name": "stdout",
          "text": [
            "The sum of even numbers between 1 and 500 is: 62750\n"
          ]
        }
      ]
    },
    {
      "cell_type": "code",
      "source": [
        "#14.:0 Write a program to reverse a string using a while loop?\n",
        "string = input(\"Enter a string: \")\n",
        "reversed_string = \"\"\n",
        "index = len(string) - 1\n",
        "while index >= 0:\n",
        "    reversed_string += string[index]\n",
        "    index -= 1\n",
        "print(\"Reversed string:\", reversed_string)"
      ],
      "metadata": {
        "colab": {
          "base_uri": "https://localhost:8080/"
        },
        "id": "kAuejZ51mFrE",
        "outputId": "1d3f1b84-f16d-498e-e9c5-dbac8c6c0aee"
      },
      "execution_count": null,
      "outputs": [
        {
          "output_type": "stream",
          "name": "stdout",
          "text": [
            "Enter a string: MEMORY\n",
            "Reversed string: YROMEM\n"
          ]
        }
      ]
    },
    {
      "cell_type": "code",
      "source": [
        "#15.Write a Python program to calculate the factorial of a number provided by the user using a while loop?\n",
        "num = int(input(\"Enter a number: \"))\n",
        "factorial = 1\n",
        "current = 1\n",
        "while current <= num:\n",
        "    factorial *= current\n",
        "    current += 1\n",
        "print(f\"The factorial of {num} is {factorial}\")"
      ],
      "metadata": {
        "colab": {
          "base_uri": "https://localhost:8080/"
        },
        "id": "WQWd81elmRuB",
        "outputId": "686a9d8e-f4b2-49c9-ba42-70d232b0d411"
      },
      "execution_count": null,
      "outputs": [
        {
          "output_type": "stream",
          "name": "stdout",
          "text": [
            "Enter a number: 23\n",
            "The factorial of 23 is 25852016738884976640000\n"
          ]
        }
      ]
    }
  ]
}